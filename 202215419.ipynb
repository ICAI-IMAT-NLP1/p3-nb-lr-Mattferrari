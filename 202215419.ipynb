{
  "cells": [
    {
      "cell_type": "markdown",
      "metadata": {
        "id": "dtl79vUk-PJY"
      },
      "source": [
        "# Natural Language Processing 1\n",
        "## Exercise sheet 1: Language modeling and $n$-gram models\n",
        "\n",
        "### Instructions\n",
        "\n",
        "Fill in the numerical answers in the provided code cells. Submit the completed notebook when done. Reasoning is required only where specified.\n",
        "\n",
        "- Numerical answers should be stored in variables in the provided code cells.\n",
        "- Reasoning and detailed calculations should be added in the designated text cells.\n",
        "- Do **not** modify the variable names or the structure of the notebook.\n",
        "- Save and download your notebook with the following naming convention: `STUDENT_ID.ipynb`, where `STUDENT_ID` is your university-assigned ID.\n",
        "- Upload the notebook to Moodle in the **Exercises** section. Make sure the file is correctly named before submitting.\n",
        "\n",
        "\n",
        "### Writing down math formulas\n",
        "\n",
        "If you know how to write math in LaTeX, you can use `$` signs to write math formulas in the provided text cells. For example, if you write:\n",
        "\n",
        "```markdown\n",
        "$$f(x_1,\\\\dots,x_n)=\\\\frac{\\\\sum_{i=1}^n x_i}{|\\mathcal{V}|}$$\n",
        "```\n",
        "It will display as follows:\n",
        "\n",
        "$$f(x_1,\\dots,x_n)=\\frac{\\sum_{i=1}^n x_i}{|\\mathcal{V}|}$$\n",
        "\n",
        "You can also write math inline, like this:\n",
        "\n",
        "```markdown\n",
        "$f(n) = n^2 + 1$\n",
        "```\n",
        "\n",
        "which displays as follows: $f(n) = n^2 + 1$. This is helpful for embedding equations within sentences.\n",
        "\n",
        "While LaTeX format is not required, you're encouraged to use it to format your math clearly and make your work easier to read."
      ],
      "id": "dtl79vUk-PJY"
    },
    {
      "cell_type": "markdown",
      "metadata": {
        "id": "Wl8juGMo-PJZ"
      },
      "source": [
        "### Exercise 1: Defining a trigram language model from text data [MG]"
      ],
      "id": "Wl8juGMo-PJZ"
    },
    {
      "cell_type": "code",
      "execution_count": 1,
      "metadata": {
        "id": "wdq2rvoE-PJZ"
      },
      "outputs": [],
      "source": [
        "# Q1.1: p_add1(a | BOS, BOS)\n",
        "p_add1_a_given_BOS_BOS = 1/2  # Replace None with your answer (e.g., 1/2, or 0.375)\n",
        "\n",
        "# Q1.2: p_add1(b | BOS, a)\n",
        "p_add1_b_given_BOS_a = 3/5  # Replace None with your answer\n",
        "\n",
        "# Q1.3: p_add1(a | a, b)\n",
        "p_add1_a_given_a_b = 2/5  # Replace None with your answer\n",
        "\n",
        "# Q1.4: p_add1(b | b, a)\n",
        "p_add1_b_given_b_a = 1/5  # Replace None with your answer\n",
        "\n",
        "# Q1.5: p_add1(c | a, b)\n",
        "p_add1_c_given_a_b = 2/5  # Replace None with your answer\n",
        "\n",
        "# Q1.6: p_add1(EOS | b, c)\n",
        "p_add1_EOS_given_b_c = 1/2  # Replace None with your answer\n",
        "\n",
        "# Q1.7: p_add1(c | BOS, BOS)\n",
        "p_add1_c_given_BOS_BOS = 1/6  # Replace None with your answer\n",
        "\n",
        "# Q1.8: p_add1(b | BOS, c)\n",
        "p_add1_b_given_BOS_c = 1/3 # Replace None with your answer\n",
        "\n",
        "# Q1.9: p_add1(a | c, b)\n",
        "p_add1_a_given_c_b = 1/3  # Replace None with your answer\n",
        "\n",
        "# Q1.10: p_add1(EOS | b, a)\n",
        "p_add1_EOS_given_b_a = 2/5  # Replace None with your answer\n"
      ],
      "id": "wdq2rvoE-PJZ"
    },
    {
      "cell_type": "code",
      "execution_count": null,
      "metadata": {
        "id": "8srO7ZXt-PJb"
      },
      "outputs": [],
      "source": [
        "# Sentence Probabilities\n",
        "sentence_prob_1 = 3/625  # Replace None with the probability of BOS BOS a b a b c EOS\n",
        "sentence_prob_2 = 1/135  # Replace None with the probability of BOS BOS c b a EOS"
      ],
      "id": "8srO7ZXt-PJb"
    },
    {
      "cell_type": "markdown",
      "metadata": {
        "id": "UuVESCEh-PJc"
      },
      "source": [
        "#### Reasoning for Exercise 1\n",
        "Provide your reasoning and detailed calculations here."
      ],
      "id": "UuVESCEh-PJc"
    },
    {
      "cell_type": "markdown",
      "metadata": {
        "id": "pUOcjRHe-PJc"
      },
      "source": [
        "### Exercise 2: Detect the language model [MG]"
      ],
      "id": "pUOcjRHe-PJc"
    },
    {
      "cell_type": "code",
      "execution_count": null,
      "metadata": {
        "id": "veZ287LO-PJc"
      },
      "outputs": [],
      "source": [
        "# Q2.1: Choice 1 - f(n) = 1/2\n",
        "choice_1_valid = False  # Set to True if this choice satisfies condition 3, False otherwise\n",
        "\n",
        "# Q2.2: Choice 2 - f(n) = 1/(2^n)\n",
        "choice_2_valid = False  # Set to True if this choice satisfies condition 3, False otherwise\n",
        "\n",
        "# Q2.3: Choice 3 - f(n) = 1/(3^n)\n",
        "choice_3_valid = True  # Set to True if this choice satisfies condition 3, False otherwise"
      ],
      "id": "veZ287LO-PJc"
    },
    {
      "cell_type": "markdown",
      "metadata": {
        "id": "EUchGsVo-PJc"
      },
      "source": [
        "#### Reasoning for Exercise 2\n",
        "Provide your reasoning and detailed calculations here."
      ],
      "id": "EUchGsVo-PJc"
    },
    {
      "cell_type": "markdown",
      "metadata": {
        "id": "pWwHUDGg-PJc"
      },
      "source": [
        "### Exercise 3: $n$-gram models without the \t$\\texttt{EOS}$ symbol [MU]"
      ],
      "id": "pWwHUDGg-PJc"
    },
    {
      "cell_type": "markdown",
      "metadata": {
        "id": "PQMNQUQS-PJc"
      },
      "source": [
        "First, we start by calculating the probabilities of each token in the training document:\n",
        "\n",
        "P(a|BOS) = 1/2\n",
        "\n",
        "P(b|BOS) = 1/2\n",
        "\n",
        "P(a|a) = 1/4\n",
        "\n",
        "P(a|b) = 1/4\n",
        "\n",
        "P(b|a) = 1/4\n",
        "\n",
        "P(b|b) = 1/4\n",
        "\n",
        "Then, we use the third condition to demonstrate that this model does not yield a well-defined language model.\n",
        "\n",
        "$${\\sum_{(x_1,\\dots,x_n)\\in{\\bar{V}}} p(w_1,\\dots,w_n) = 1}$$\n",
        "\n",
        "By changing this expression to a more \"simplified\" and \"organized\" one, we get the following series:\n",
        "\n",
        "$${\\sum_{i=1}^{\\infty}{\\sum_{(x_1,\\dots,x_i)\\in{{V^i}}} p(w_1,\\dots,w_i)} = 1}$$\n",
        "\n",
        "This way, we have separated the sentences into different lengths. Now let's subtitute the probabilities we have calculated in the expression.\n",
        "\n",
        "$${\\sum_{i=1}^{\\infty}{\\sum_{(x_1,\\dots,x_i)\\in{{V^i}}} 1/2*(1/4)^{i-1}} = 1}$$\n",
        "\n",
        "As there is only one \"BOS\" token and the probabilities of \"a\" or \"b\" after \"BOS\" are equal, we can just substitute it by 1/2. The lenght of the rest of the sentence will be i-1, so the product of the probabilities of each token after another will be: $$(1/4)^{i-1}$$\n",
        "\n",
        "If we continue to do the math, we see that we can get rid of the second series by substituting it by $$2^{i}$$ as this represents all the posible combinations of sentences that we can build with a 2 terms vocabulary. Therefore, our final expression remains as follows:\n",
        "\n",
        "$${\\sum_{i=1}^{\\infty} 2^{i}*(1/2)*(1/4)^{i-1}} = {\\sum_{i=1}^{\\infty} (2/4)^{i-1}} = {\\sum_{i=1}^{\\infty} (1/2)^{i-1}} < 1$$\n",
        "\n",
        "We have demonstrated that this lenguage model is not well defined as it is lacking of a term. If we were to add this final term \"EOS\" there would be a 1/2 multiplying the expression, and it would become like this:\n",
        "\n",
        "$${\\sum_{i=1}^{\\infty} (1/2)^{i}}$$\n",
        "\n",
        "This expresion IS equal to 1.\n",
        "\n",
        "\n",
        "\n"
      ],
      "id": "PQMNQUQS-PJc"
    }
  ],
  "metadata": {
    "kernelspec": {
      "display_name": "Python 3",
      "language": "python",
      "name": "python3"
    },
    "language_info": {
      "codemirror_mode": {
        "name": "ipython",
        "version": 3
      },
      "file_extension": ".py",
      "mimetype": "text/x-python",
      "name": "python",
      "nbconvert_exporter": "python",
      "pygments_lexer": "ipython3",
      "version": "3.8.10"
    },
    "colab": {
      "provenance": []
    }
  },
  "nbformat": 4,
  "nbformat_minor": 5
}